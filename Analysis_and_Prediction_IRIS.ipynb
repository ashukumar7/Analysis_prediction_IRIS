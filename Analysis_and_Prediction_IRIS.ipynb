{
  "nbformat": 4,
  "nbformat_minor": 0,
  "metadata": {
    "colab": {
      "name": "Analysis and Prediction IRIS.ipynb",
      "provenance": [],
      "collapsed_sections": [],
      "include_colab_link": true
    },
    "kernelspec": {
      "name": "python3",
      "display_name": "Python 3"
    }
  },
  "cells": [
    {
      "cell_type": "markdown",
      "metadata": {
        "id": "view-in-github",
        "colab_type": "text"
      },
      "source": [
        "<a href=\"https://colab.research.google.com/github/ashukumar7/Analysis_prediction_IRIS/blob/master/Analysis_and_Prediction_IRIS.ipynb\" target=\"_parent\"><img src=\"https://colab.research.google.com/assets/colab-badge.svg\" alt=\"Open In Colab\"/></a>"
      ]
    },
    {
      "cell_type": "code",
      "metadata": {
        "id": "RGiUGNWui-nr",
        "colab_type": "code",
        "colab": {}
      },
      "source": [
        "import pandas as pd\n",
        "iris = pd.read_csv('Iris.csv')\n",
        "iris"
      ],
      "execution_count": null,
      "outputs": []
    },
    {
      "cell_type": "markdown",
      "metadata": {
        "id": "XQzAFI7fnqtI",
        "colab_type": "text"
      },
      "source": [
        "**Define Features and labels**"
      ]
    },
    {
      "cell_type": "code",
      "metadata": {
        "id": "p0wQsiE5m02A",
        "colab_type": "code",
        "colab": {}
      },
      "source": [
        "#label\n",
        "Y = iris['Species'].map({'Iris-setosa':0, 'Iris-versicolor':1, 'Iris-virginica':2})"
      ],
      "execution_count": null,
      "outputs": []
    },
    {
      "cell_type": "code",
      "metadata": {
        "id": "fsIKjibznRnT",
        "colab_type": "code",
        "colab": {}
      },
      "source": [
        "#iris.columns"
      ],
      "execution_count": null,
      "outputs": []
    },
    {
      "cell_type": "code",
      "metadata": {
        "id": "30BZSMPjnNGr",
        "colab_type": "code",
        "colab": {}
      },
      "source": [
        "#Features\n",
        "X = iris[['SepalLengthCm', 'SepalWidthCm', 'PetalLengthCm', 'PetalWidthCm']]"
      ],
      "execution_count": null,
      "outputs": []
    },
    {
      "cell_type": "markdown",
      "metadata": {
        "id": "aPkPYNQSn0Iy",
        "colab_type": "text"
      },
      "source": [
        "**Define Algorithm**"
      ]
    },
    {
      "cell_type": "code",
      "metadata": {
        "id": "vQ822j8qn5Of",
        "colab_type": "code",
        "colab": {}
      },
      "source": [
        "from sklearn.neighbors import KNeighborsClassifier\n",
        "kmodel = KNeighborsClassifier(n_neighbors=3)"
      ],
      "execution_count": null,
      "outputs": []
    },
    {
      "cell_type": "markdown",
      "metadata": {
        "id": "1vvgX_N2ucT7",
        "colab_type": "text"
      },
      "source": [
        "**Divide the data into training and testing sets**"
      ]
    },
    {
      "cell_type": "code",
      "metadata": {
        "id": "FB5sShrJuiPK",
        "colab_type": "code",
        "colab": {}
      },
      "source": [
        "from sklearn.model_selection import train_test_split\n",
        "xtrain,xtest,ytrain,ytest = train_test_split(X,Y,test_size=0.3,\n",
        "                                             random_state=6)"
      ],
      "execution_count": null,
      "outputs": []
    },
    {
      "cell_type": "code",
      "metadata": {
        "id": "wXlXeAhsuyRD",
        "colab_type": "code",
        "colab": {
          "base_uri": "https://localhost:8080/",
          "height": 165
        },
        "outputId": "35dc3947-cd17-4b3a-9f08-591d47d62c02"
      },
      "source": [
        "print(ytrain.value_counts())\n",
        "print(ytest.value_counts())"
      ],
      "execution_count": null,
      "outputs": [
        {
          "output_type": "stream",
          "text": [
            "2    37\n",
            "1    35\n",
            "0    33\n",
            "Name: Species, dtype: int64\n",
            "0    17\n",
            "1    15\n",
            "2    13\n",
            "Name: Species, dtype: int64\n"
          ],
          "name": "stdout"
        }
      ]
    },
    {
      "cell_type": "markdown",
      "metadata": {
        "id": "NTu6PpkRn8j1",
        "colab_type": "text"
      },
      "source": [
        "**Train Your model**"
      ]
    },
    {
      "cell_type": "code",
      "metadata": {
        "id": "fLBlN8J6n7Kw",
        "colab_type": "code",
        "colab": {
          "base_uri": "https://localhost:8080/",
          "height": 72
        },
        "outputId": "a4719cf4-f150-4944-f2be-9e3361071469"
      },
      "source": [
        "kmodel.fit(xtrain, ytrain)"
      ],
      "execution_count": null,
      "outputs": [
        {
          "output_type": "execute_result",
          "data": {
            "text/plain": [
              "KNeighborsClassifier(algorithm='auto', leaf_size=30, metric='minkowski',\n",
              "                     metric_params=None, n_jobs=None, n_neighbors=3, p=2,\n",
              "                     weights='uniform')"
            ]
          },
          "metadata": {
            "tags": []
          },
          "execution_count": 102
        }
      ]
    },
    {
      "cell_type": "markdown",
      "metadata": {
        "id": "dtLZ2fq4oEZ3",
        "colab_type": "text"
      },
      "source": [
        "**Evaluate the model Performance for training data**"
      ]
    },
    {
      "cell_type": "code",
      "metadata": {
        "id": "N_kJhLkGoJCU",
        "colab_type": "code",
        "colab": {
          "base_uri": "https://localhost:8080/",
          "height": 35
        },
        "outputId": "c8a21a2c-2161-4ba8-8f52-260581e3146b"
      },
      "source": [
        "Ypred_train = kmodel.predict(xtrain)\n",
        "(Ypred_train == ytrain).sum()/len(xtrain)"
      ],
      "execution_count": null,
      "outputs": [
        {
          "output_type": "execute_result",
          "data": {
            "text/plain": [
              "0.9428571428571428"
            ]
          },
          "metadata": {
            "tags": []
          },
          "execution_count": 103
        }
      ]
    },
    {
      "cell_type": "code",
      "metadata": {
        "id": "hoj-LZN000BH",
        "colab_type": "code",
        "colab": {
          "base_uri": "https://localhost:8080/",
          "height": 35
        },
        "outputId": "ce874d79-ee2c-4263-b627-37b5246ec57e"
      },
      "source": [
        "kmodel.score(xtrain,ytrain)"
      ],
      "execution_count": null,
      "outputs": [
        {
          "output_type": "execute_result",
          "data": {
            "text/plain": [
              "0.9428571428571428"
            ]
          },
          "metadata": {
            "tags": []
          },
          "execution_count": 104
        }
      ]
    },
    {
      "cell_type": "markdown",
      "metadata": {
        "id": "omcwwwSMwRtp",
        "colab_type": "text"
      },
      "source": [
        "**Evaluate the model performance on testing data**"
      ]
    },
    {
      "cell_type": "code",
      "metadata": {
        "id": "acyHC8CjwZ3Q",
        "colab_type": "code",
        "colab": {
          "base_uri": "https://localhost:8080/",
          "height": 35
        },
        "outputId": "bc5c2e18-a119-4f27-d4d5-0a902ab845b6"
      },
      "source": [
        "Ypred_test = kmodel.predict(xtest)\n",
        "(Ypred_test == ytest).sum()/len(xtest)"
      ],
      "execution_count": null,
      "outputs": [
        {
          "output_type": "execute_result",
          "data": {
            "text/plain": [
              "1.0"
            ]
          },
          "metadata": {
            "tags": []
          },
          "execution_count": 105
        }
      ]
    },
    {
      "cell_type": "code",
      "metadata": {
        "id": "mwiLtTTu0uw_",
        "colab_type": "code",
        "colab": {
          "base_uri": "https://localhost:8080/",
          "height": 35
        },
        "outputId": "cf990633-d52d-460c-fedd-3bc5144ab161"
      },
      "source": [
        "kmodel.score(xtest,ytest)"
      ],
      "execution_count": null,
      "outputs": [
        {
          "output_type": "execute_result",
          "data": {
            "text/plain": [
              "1.0"
            ]
          },
          "metadata": {
            "tags": []
          },
          "execution_count": 106
        }
      ]
    },
    {
      "cell_type": "markdown",
      "metadata": {
        "id": "2TgGXQrOwx8V",
        "colab_type": "text"
      },
      "source": [
        "**Make the predictions**"
      ]
    },
    {
      "cell_type": "code",
      "metadata": {
        "id": "s0BdacBdw1ss",
        "colab_type": "code",
        "colab": {
          "base_uri": "https://localhost:8080/",
          "height": 54
        },
        "outputId": "7d4280ea-ed00-4515-a0aa-347ad9d03432"
      },
      "source": [
        "#[2.1,3.2,4.1,6.3]\n",
        "import numpy as np\n",
        "label = np.array(['setosa','versicolor','virginica'])\n",
        "\n",
        "print(kmodel.predict([[2.1,3.2,4.1,6.3]]))\n",
        "\n",
        "label[kmodel.predict([[2.1,3.2,4.1,6.3] , [3.1,4.2,0.3,0.2]])]"
      ],
      "execution_count": null,
      "outputs": [
        {
          "output_type": "stream",
          "text": [
            "[2]\n"
          ],
          "name": "stdout"
        },
        {
          "output_type": "execute_result",
          "data": {
            "text/plain": [
              "array(['virginica', 'setosa'], dtype='<U10')"
            ]
          },
          "metadata": {
            "tags": []
          },
          "execution_count": 117
        }
      ]
    },
    {
      "cell_type": "markdown",
      "metadata": {
        "id": "LsnuqS7p0Vf2",
        "colab_type": "text"
      },
      "source": [
        "**Visualisation of model performance**"
      ]
    },
    {
      "cell_type": "code",
      "metadata": {
        "id": "oaDNnI8O0R05",
        "colab_type": "code",
        "colab": {}
      },
      "source": [
        "tr_score=[]\n",
        "ts_score=[]\n",
        "for i in range(1,15):\n",
        "  km = KNeighborsClassifier(n_neighbors=i)\n",
        "  km.fit(xtrain,ytrain)\n",
        "  tr_score.append(km.score(xtrain,ytrain))\n",
        "  ts_score.append(km.score(xtest,ytest))"
      ],
      "execution_count": null,
      "outputs": []
    },
    {
      "cell_type": "code",
      "metadata": {
        "id": "lJjlMFGh44qS",
        "colab_type": "code",
        "colab": {
          "base_uri": "https://localhost:8080/",
          "height": 265
        },
        "outputId": "87bdb35a-2784-460a-c844-001d7ba2c32d"
      },
      "source": [
        "import matplotlib.pyplot as plt\n",
        "plt.plot(range(1,15),tr_score)\n",
        "plt.plot(range(1,15),ts_score,c='r')\n",
        "plt.show()"
      ],
      "execution_count": null,
      "outputs": [
        {
          "output_type": "display_data",
          "data": {
            "image/png": "[encoded data removed]",
            "text/plain": [
              "<Figure size 432x288 with 1 Axes>"
            ]
          },
          "metadata": {
            "tags": [],
            "needs_background": "light"
          }
        }
      ]
    },
    {
      "cell_type": "code",
      "metadata": {
        "id": "WRul_dKulQtU",
        "colab_type": "code",
        "colab": {
          "base_uri": "https://localhost:8080/",
          "height": 35
        },
        "outputId": "d66349eb-86dd-411a-f541-65ad6bf10977"
      },
      "source": [
        "iris['Species'].unique()"
      ],
      "execution_count": null,
      "outputs": [
        {
          "output_type": "execute_result",
          "data": {
            "text/plain": [
              "array(['Iris-setosa', 'Iris-versicolor', 'Iris-virginica'], dtype=object)"
            ]
          },
          "metadata": {
            "tags": []
          },
          "execution_count": 10
        }
      ]
    },
    {
      "cell_type": "code",
      "metadata": {
        "id": "a5D_czE2jI4C",
        "colab_type": "code",
        "colab": {}
      },
      "source": [
        "from sklearn.datasets import load_iris\n",
        "ir = load_iris()"
      ],
      "execution_count": null,
      "outputs": []
    },
    {
      "cell_type": "code",
      "metadata": {
        "id": "qm9Lrf94j72B",
        "colab_type": "code",
        "colab": {
          "base_uri": "https://localhost:8080/",
          "height": 35
        },
        "outputId": "c763a861-dc63-4cf2-8705-8bd805dddc04"
      },
      "source": [
        "ir.keys()"
      ],
      "execution_count": null,
      "outputs": [
        {
          "output_type": "execute_result",
          "data": {
            "text/plain": [
              "dict_keys(['data', 'target', 'target_names', 'DESCR', 'feature_names', 'filename'])"
            ]
          },
          "metadata": {
            "tags": []
          },
          "execution_count": 3
        }
      ]
    },
    {
      "cell_type": "code",
      "metadata": {
        "id": "7tJS6kkHk4JD",
        "colab_type": "code",
        "colab": {}
      },
      "source": [
        "Y = ir['target']"
      ],
      "execution_count": null,
      "outputs": []
    },
    {
      "cell_type": "code",
      "metadata": {
        "id": "1XOfiOsOkWn5",
        "colab_type": "code",
        "colab": {
          "base_uri": "https://localhost:8080/",
          "height": 146
        },
        "outputId": "f596be6b-46e3-413f-94fd-726de291d436"
      },
      "source": [
        "Y"
      ],
      "execution_count": null,
      "outputs": [
        {
          "output_type": "execute_result",
          "data": {
            "text/plain": [
              "array([0, 0, 0, 0, 0, 0, 0, 0, 0, 0, 0, 0, 0, 0, 0, 0, 0, 0, 0, 0, 0, 0,\n",
              "       0, 0, 0, 0, 0, 0, 0, 0, 0, 0, 0, 0, 0, 0, 0, 0, 0, 0, 0, 0, 0, 0,\n",
              "       0, 0, 0, 0, 0, 0, 1, 1, 1, 1, 1, 1, 1, 1, 1, 1, 1, 1, 1, 1, 1, 1,\n",
              "       1, 1, 1, 1, 1, 1, 1, 1, 1, 1, 1, 1, 1, 1, 1, 1, 1, 1, 1, 1, 1, 1,\n",
              "       1, 1, 1, 1, 1, 1, 1, 1, 1, 1, 1, 1, 2, 2, 2, 2, 2, 2, 2, 2, 2, 2,\n",
              "       2, 2, 2, 2, 2, 2, 2, 2, 2, 2, 2, 2, 2, 2, 2, 2, 2, 2, 2, 2, 2, 2,\n",
              "       2, 2, 2, 2, 2, 2, 2, 2, 2, 2, 2, 2, 2, 2, 2, 2, 2, 2])"
            ]
          },
          "metadata": {
            "tags": []
          },
          "execution_count": 22
        }
      ]
    },
    {
      "cell_type": "code",
      "metadata": {
        "id": "la95PT6xkCtN",
        "colab_type": "code",
        "colab": {}
      },
      "source": [
        "X = pd.DataFrame(ir['data'], columns=ir['feature_names'])"
      ],
      "execution_count": null,
      "outputs": []
    },
    {
      "cell_type": "code",
      "metadata": {
        "id": "kNhf3M1NymBc",
        "colab_type": "code",
        "colab": {}
      },
      "source": [
        "x1 = X['sepal width (cm)']\n",
        "x2 = X['sepal length (cm)']\n",
        "x3 = X['petal length (cm)']\n",
        "x4 = X['petal width (cm)']"
      ],
      "execution_count": null,
      "outputs": []
    },
    {
      "cell_type": "code",
      "metadata": {
        "id": "FhJ_oVwSij51",
        "colab_type": "code",
        "colab": {
          "base_uri": "https://localhost:8080/",
          "height": 265
        },
        "outputId": "5a7bfa45-dcd0-4859-ce56-0808965b7bef"
      },
      "source": [
        "import matplotlib.pyplot as plt\n",
        "plt.scatter(x1,x2,c=Y)\n",
        "plt.show()"
      ],
      "execution_count": null,
      "outputs": [
        {
          "output_type": "display_data",
          "data": {
            "image/png": "[encoded data removed]",
            "text/plain": [
              "<Figure size 432x288 with 1 Axes>"
            ]
          },
          "metadata": {
            "tags": [],
            "needs_background": "light"
          }
        }
      ]
    },
    {
      "cell_type": "code",
      "metadata": {
        "id": "4JmkK2nsjJF9",
        "colab_type": "code",
        "colab": {
          "base_uri": "https://localhost:8080/",
          "height": 265
        },
        "outputId": "aadac63e-1a43-4ffb-8f10-bbd2c02158b7"
      },
      "source": [
        "import matplotlib.pyplot as plt\n",
        "plt.scatter(x3,x4,c=Y)\n",
        "plt.show()"
      ],
      "execution_count": null,
      "outputs": [
        {
          "output_type": "display_data",
          "data": {
            "image/png": "[encoded data removed]",
            "text/plain": [
              "<Figure size 432x288 with 1 Axes>"
            ]
          },
          "metadata": {
            "tags": [],
            "needs_background": "light"
          }
        }
      ]
    },
    {
      "cell_type": "code",
      "metadata": {
        "id": "vuInxowEjsmx",
        "colab_type": "code",
        "colab": {
          "base_uri": "https://localhost:8080/",
          "height": 265
        },
        "outputId": "991ce387-029a-47d6-c132-2258f3f93d71"
      },
      "source": [
        "import matplotlib.pyplot as plt\n",
        "plt.scatter(x1,x4,c=Y)\n",
        "plt.show()"
      ],
      "execution_count": null,
      "outputs": [
        {
          "output_type": "display_data",
          "data": {
            "image/png": "[encoded data removed]",
            "text/plain": [
              "<Figure size 432x288 with 1 Axes>"
            ]
          },
          "metadata": {
            "tags": [],
            "needs_background": "light"
          }
        }
      ]
    },
    {
      "cell_type": "code",
      "metadata": {
        "id": "eBFAB-Qdj2zK",
        "colab_type": "code",
        "colab": {}
      },
      "source": [
        ""
      ],
      "execution_count": null,
      "outputs": []
    }
  ]
}